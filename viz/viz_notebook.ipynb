{
  "cells": [
    {
      "cell_type": "code",
      "execution_count": 1,
      "metadata": {},
      "outputs": [
        {
          "name": "stdout",
          "output_type": "stream",
          "text": [
            "Setting up the liquid handler.\n",
            "Resource deck was assigned to the liquid handler.\n",
            "Resource trash was assigned to the liquid handler.\n",
            "Resource trash_core96 was assigned to the liquid handler.\n",
            "Websocket server started at http://127.0.0.1:2121\n",
            "File server started at http://127.0.0.1:1337 . Open this URL in your browser.\n"
          ]
        }
      ],
      "source": [
        "import asyncio  # Import asyncio for managing async execution\n",
        "from pylabrobot.liquid_handling import LiquidHandler\n",
        "from pylabrobot.liquid_handling.backends import LiquidHandlerChatterboxBackend\n",
        "from pylabrobot.visualizer.visualizer import Visualizer\n",
        "from pylabrobot.resources.hamilton import STARLetDeck\n",
        "\n",
        "from pylabrobot.resources.vwr import VWRReagentReservoirs25mL\n",
        "\n",
        "# liquid handling\n",
        "from pylabrobot.resources import set_tip_tracking, set_volume_tracking\n",
        "set_tip_tracking(True), set_volume_tracking(True)\n",
        "\n",
        "# setup\n",
        "lh = LiquidHandler(backend=LiquidHandlerChatterboxBackend(), deck=STARLetDeck(with_teaching_rack=False))\n",
        "\n",
        "await lh.setup()\n",
        "vis = Visualizer(resource=lh)\n",
        "await vis.setup()\n",
        "\n",
        "# HAVE TO REFRESH THE PAGE FOR THE DECK TO APPEAR PROPERLY"
      ]
    },
    {
      "cell_type": "code",
      "execution_count": 2,
      "metadata": {},
      "outputs": [
        {
          "name": "stdout",
          "output_type": "stream",
          "text": [
            "Resource tip carrier was assigned to the liquid handler.\n"
          ]
        }
      ],
      "source": [
        "from pylabrobot.resources import (\n",
        "    TIP_CAR_480_A00,\n",
        "    PLT_CAR_L5AC_A00,\n",
        "    Cor_96_wellplate_360ul_Fb,\n",
        "    Trough_CAR_4R200_A00,\n",
        "    HTF\n",
        ")\n",
        "\n",
        "# Assign 5 tip racks to tip carrier\n",
        "tip_car = TIP_CAR_480_A00(name='tip carrier')\n",
        "tip_car[0] = tip_rack1 = HTF(name='tips_01', with_tips=False)\n",
        "tip_car[1] = tip_rack2 = HTF(name='tips_02', with_tips=False)\n",
        "tip_car[2] = tip_rack3 = HTF(name='tips_03', with_tips=False)\n",
        "tip_car[3] = tip_rack4 = HTF(name='tips_04', with_tips=False)\n",
        "tip_car[4] = tip_rack5 = HTF(name='tips_05', with_tips=False)\n",
        "# Assign tip carrier to lh (liquid handler)\n",
        "lh.deck.assign_child_resource(tip_car, rails=15)"
      ]
    },
    {
      "cell_type": "code",
      "execution_count": 3,
      "metadata": {},
      "outputs": [
        {
          "name": "stdout",
          "output_type": "stream",
          "text": [
            "Resource plate carrier was assigned to the liquid handler.\n"
          ]
        }
      ],
      "source": [
        "# Assign 3 plates to plate carrier\n",
        "plt_car = PLT_CAR_L5AC_A00(name='plate carrier')\n",
        "plt_car[0] = plate_1 = Cor_96_wellplate_360ul_Fb(name='plate_01')\n",
        "plt_car[1] = plate_2 = Cor_96_wellplate_360ul_Fb(name='plate_02')\n",
        "plt_car[2] = plate_3 = Cor_96_wellplate_360ul_Fb(name='plate_03')\n",
        "# Assign plate carrier to lh (liquid handler)\n",
        "lh.deck.assign_child_resource(plt_car, rails=8)"
      ]
    },
    {
      "cell_type": "code",
      "execution_count": 4,
      "metadata": {},
      "outputs": [],
      "source": [
        "# Fill all tip_rack1 tips\n",
        "tip_rack1.fill()\n",
        "# Fill the top two rows of tip_rack4\n",
        "tip_rack4 = lh.deck.get_resource(\"tips_04\")\n",
        "tip_rack4.set_tip_state(([True, True] + [False] * 6) * 12)\n",
        "# fill alternating rows\n",
        "flattened_bool_list = [True, False] * 48\n",
        "tip_rack2.set_tip_state(flattened_bool_list)"
      ]
    },
    {
      "cell_type": "code",
      "execution_count": 5,
      "metadata": {},
      "outputs": [
        {
          "name": "stdout",
          "output_type": "stream",
          "text": [
            "Resource trough carrier was assigned to the liquid handler.\n"
          ]
        }
      ],
      "source": [
        "# Setup trough carrier for material\n",
        "trough_car = Trough_CAR_4R200_A00(name='trough carrier')\n",
        "compounds = ['material_A', 'material_B', 'material_C', 'material_D']\n",
        "compound_troughs = {}\n",
        "for i, compound in enumerate(compounds):\n",
        "  trough_car[i] = compound_troughs[compound] = VWRReagentReservoirs25mL(name=f'{compound}')\n",
        "# Assign trough carrier to lh (liquid handler)\n",
        "lh.deck.assign_child_resource(trough_car, replace=True, rails=4)"
      ]
    },
    {
      "cell_type": "code",
      "execution_count": 6,
      "metadata": {},
      "outputs": [
        {
          "name": "stdout",
          "output_type": "stream",
          "text": [
            "924.0000000000001\n",
            "max 25000\n",
            "1584.0000000000002\n",
            "max 25000\n",
            "1320.0\n",
            "max 25000\n",
            "1636.8000000000002\n",
            "max 25000\n"
          ]
        }
      ],
      "source": [
        "from pylabrobot.resources.liquid import Liquid\n",
        "import csv\n",
        "\n",
        "def read_csv(file_path):\n",
        "  with open(file_path, 'r') as file:\n",
        "      reader = csv.DictReader(file)\n",
        "      data = [row for row in reader]\n",
        "  return data\n",
        "CSV_FILE_PATH = '/Users/evan_kim/startup/pylabrobot/protocol-designer/backend/structured96.csv'\n",
        "data = read_csv(CSV_FILE_PATH)\n",
        "\n",
        "# Set liquids in reservoirs\n",
        "def calculate_total_volume(data, compound):\n",
        "    \"\"\"Calculate total volume needed for a compound including extra buffer\"\"\"\n",
        "    total = sum(float(row[compound]) for row in data if row[compound])\n",
        "    # Add 10% buffer volume\n",
        "    return total * 1.1\n",
        "\n",
        "for compound in compounds:\n",
        "  total_volume = calculate_total_volume(data, compound)\n",
        "  print(total_volume)\n",
        "  print(\"max\", compound_troughs[compound].max_volume)\n",
        "  if total_volume > compound_troughs[compound].max_volume:\n",
        "      raise ValueError(f\"Required volume {total_volume}μL for {compound} exceeds trough capacity {compound_troughs[compound].max_volume}μL\")\n",
        "  # logging.info(f\"Filling trough for {compound} with {total_volume}μL\")\n",
        "  compound_troughs[compound].tracker.set_liquids([(compound, 20000)])"
      ]
    },
    {
      "cell_type": "code",
      "execution_count": 8,
      "metadata": {},
      "outputs": [],
      "source": [
        "# Set liquids in reservoirs\n",
        "plate_1_liquids = [[(\"material_A\", 500)]]*96\n",
        "plate_1.set_well_liquids(plate_1_liquids)\n",
        "\n",
        "plate_2_liquids = [[(\"material_B\", 100)], [(None, 500)]]*(96//2)\n",
        "plate_2.set_well_liquids(plate_2_liquids)"
      ]
    },
    {
      "cell_type": "code",
      "execution_count": null,
      "metadata": {},
      "outputs": [],
      "source": []
    },
    {
      "cell_type": "code",
      "execution_count": 30,
      "metadata": {},
      "outputs": [
        {
          "name": "stdout",
          "output_type": "stream",
          "text": [
            "Picking up tips:\n",
            "pip#  resource             offset           tip type     max volume (µL)  fitting depth (mm)   tip length (mm)  filter    \n",
            "  p0: tips_01_tipspot_0_0  0,0,0            HamiltonTip  1065             8                    95.1             Yes       \n",
            "  p1: tips_01_tipspot_1_1  0,0,0            HamiltonTip  1065             8                    95.1             Yes       \n",
            "  p2: tips_01_tipspot_2_2  0,0,0            HamiltonTip  1065             8                    95.1             Yes       \n",
            "  p3: tips_01_tipspot_3_3  0,0,0            HamiltonTip  1065             8                    95.1             Yes       \n"
          ]
        }
      ],
      "source": [
        "\n",
        "await lh.pick_up_tips(tip_rack1[\"A1\", \"B2\", \"C3\", \"D4\"])"
      ]
    },
    {
      "cell_type": "code",
      "execution_count": 31,
      "metadata": {},
      "outputs": [
        {
          "name": "stdout",
          "output_type": "stream",
          "text": [
            "Dropping tips:\n",
            "pip#  resource             offset           tip type     max volume (µL)  fitting depth (mm)   tip length (mm)  filter    \n",
            "  p0: tips_01_tipspot_0_0  0,0,0            HamiltonTip  1065             8                    95.1             Yes       \n",
            "  p1: tips_01_tipspot_1_1  0,0,0            HamiltonTip  1065             8                    95.1             Yes       \n",
            "  p2: tips_01_tipspot_2_2  0,0,0            HamiltonTip  1065             8                    95.1             Yes       \n",
            "  p3: tips_01_tipspot_3_3  0,0,0            HamiltonTip  1065             8                    95.1             Yes       \n"
          ]
        }
      ],
      "source": [
        "await lh.drop_tips(tip_rack1[\"A1\", \"B2\", \"C3\", \"D4\"])"
      ]
    },
    {
      "cell_type": "code",
      "execution_count": 32,
      "metadata": {},
      "outputs": [
        {
          "name": "stdout",
          "output_type": "stream",
          "text": [
            "Picking up tips:\n",
            "pip#  resource             offset           tip type     max volume (µL)  fitting depth (mm)   tip length (mm)  filter    \n",
            "  p0: tips_01_tipspot_0_0  0,0,0            HamiltonTip  1065             8                    95.1             Yes       \n"
          ]
        }
      ],
      "source": [
        "# aspirate and dispensing\n",
        "await lh.pick_up_tips(tip_rack1[\"A1\"])"
      ]
    },
    {
      "cell_type": "code",
      "execution_count": 33,
      "metadata": {},
      "outputs": [
        {
          "name": "stdout",
          "output_type": "stream",
          "text": [
            "Aspirating:\n",
            "pip#  vol(ul)  resource             offset           flow rate  blowout    lld_z       \n",
            "  p0: 200.0    plate_01_well_1_0    0,0,0            None       None       None       \n"
          ]
        }
      ],
      "source": [
        "await lh.aspirate(plate_1[\"A2\"], vols=[200])"
      ]
    },
    {
      "cell_type": "code",
      "execution_count": 34,
      "metadata": {},
      "outputs": [
        {
          "name": "stdout",
          "output_type": "stream",
          "text": [
            "Dispensing:\n",
            "pip#  vol(ul)  resource             offset           flow rate  blowout    lld_z       \n",
            "  p0: 200.0    plate_02_well_0_0    0,0,0            None       None       None       \n"
          ]
        }
      ],
      "source": [
        "await lh.dispense(plate_2[\"A1\"], vols=[200])"
      ]
    },
    {
      "cell_type": "code",
      "execution_count": 35,
      "metadata": {},
      "outputs": [
        {
          "name": "stdout",
          "output_type": "stream",
          "text": [
            "Dropping tips:\n",
            "pip#  resource             offset           tip type     max volume (µL)  fitting depth (mm)   tip length (mm)  filter    \n",
            "  p0: tips_01_tipspot_0_0  0,0,0            HamiltonTip  1065             8                    95.1             Yes       \n"
          ]
        }
      ],
      "source": [
        "await lh.drop_tips(tip_rack1[\"A1\"])"
      ]
    },
    {
      "cell_type": "code",
      "execution_count": 36,
      "metadata": {},
      "outputs": [
        {
          "name": "stdout",
          "output_type": "stream",
          "text": [
            "Picking up tips:\n",
            "pip#  resource             offset           tip type     max volume (µL)  fitting depth (mm)   tip length (mm)  filter    \n",
            "  p0: tips_01_tipspot_0_0  0,0,0            HamiltonTip  1065             8                    95.1             Yes       \n",
            "  p1: tips_01_tipspot_1_1  0,0,0            HamiltonTip  1065             8                    95.1             Yes       \n",
            "  p2: tips_01_tipspot_2_2  0,0,0            HamiltonTip  1065             8                    95.1             Yes       \n",
            "  p3: tips_01_tipspot_3_3  0,0,0            HamiltonTip  1065             8                    95.1             Yes       \n"
          ]
        }
      ],
      "source": [
        "await lh.pick_up_tips(tip_rack1[\"A1\", \"B2\", \"C3\", \"D4\"])"
      ]
    },
    {
      "cell_type": "code",
      "execution_count": 37,
      "metadata": {},
      "outputs": [
        {
          "name": "stdout",
          "output_type": "stream",
          "text": [
            "Aspirating:\n",
            "pip#  vol(ul)  resource             offset           flow rate  blowout    lld_z       \n",
            "  p0: 200.0    plate_01_well_0_0    0,0,0            None       None       None       \n",
            "  p1: 100.0    plate_01_well_1_1    0,0,0            None       None       None       \n",
            "  p2: 300.0    plate_01_well_2_2    0,0,0            None       None       None       \n",
            "  p3: 50.0     plate_01_well_3_3    0,0,0            None       None       None       \n"
          ]
        }
      ],
      "source": [
        "await lh.aspirate(plate_1[\"A1\", \"B2\", \"C3\", \"D4\"], vols=[200, 100, 300, 50])"
      ]
    },
    {
      "cell_type": "code",
      "execution_count": 38,
      "metadata": {},
      "outputs": [
        {
          "name": "stdout",
          "output_type": "stream",
          "text": [
            "Dispensing:\n",
            "pip#  vol(ul)  resource             offset           flow rate  blowout    lld_z       \n",
            "  p0: 200.0    plate_03_well_0_0    0,0,0            None       None       None       \n",
            "  p1: 100.0    plate_03_well_1_0    0,0,0            None       None       None       \n",
            "  p2: 300.0    plate_03_well_2_0    0,0,0            None       None       None       \n",
            "  p3: 50.0     plate_03_well_3_0    0,0,0            None       None       None       \n"
          ]
        }
      ],
      "source": [
        "await lh.dispense(plate_3[\"A1\", \"A2\", \"A3\", \"A4\"], vols=[200, 100, 300, 50])"
      ]
    },
    {
      "cell_type": "code",
      "execution_count": 39,
      "metadata": {},
      "outputs": [
        {
          "name": "stdout",
          "output_type": "stream",
          "text": [
            "{'liquids': [[None, 200.0]], 'pending_liquids': [[None, 200.0]], 'liquid_history': []}\n",
            "{'liquids': [[None, 100.0]], 'pending_liquids': [[None, 100.0]], 'liquid_history': []}\n",
            "{'liquids': [[None, 300.0]], 'pending_liquids': [[None, 300.0]], 'liquid_history': []}\n",
            "{'liquids': [[None, 50.0]], 'pending_liquids': [[None, 50.0]], 'liquid_history': []}\n"
          ]
        }
      ],
      "source": [
        "[well for well in plate_3.children if well.name == \"plate_03_well_3_0\"][0]\n",
        "d = plate_3.serialize_all_state()\n",
        "d.keys()\n",
        "for i in range(4):\n",
        "    print(d[f\"plate_03_well_{i}_0\"])"
      ]
    },
    {
      "cell_type": "code",
      "execution_count": 40,
      "metadata": {},
      "outputs": [
        {
          "name": "stdout",
          "output_type": "stream",
          "text": [
            "dict_keys(['plate_03', 'plate_03_well_0_0', 'plate_03_well_0_1', 'plate_03_well_0_2', 'plate_03_well_0_3', 'plate_03_well_0_4', 'plate_03_well_0_5', 'plate_03_well_0_6', 'plate_03_well_0_7', 'plate_03_well_1_0', 'plate_03_well_1_1', 'plate_03_well_1_2', 'plate_03_well_1_3', 'plate_03_well_1_4', 'plate_03_well_1_5', 'plate_03_well_1_6', 'plate_03_well_1_7', 'plate_03_well_2_0', 'plate_03_well_2_1', 'plate_03_well_2_2', 'plate_03_well_2_3', 'plate_03_well_2_4', 'plate_03_well_2_5', 'plate_03_well_2_6', 'plate_03_well_2_7', 'plate_03_well_3_0', 'plate_03_well_3_1', 'plate_03_well_3_2', 'plate_03_well_3_3', 'plate_03_well_3_4', 'plate_03_well_3_5', 'plate_03_well_3_6', 'plate_03_well_3_7', 'plate_03_well_4_0', 'plate_03_well_4_1', 'plate_03_well_4_2', 'plate_03_well_4_3', 'plate_03_well_4_4', 'plate_03_well_4_5', 'plate_03_well_4_6', 'plate_03_well_4_7', 'plate_03_well_5_0', 'plate_03_well_5_1', 'plate_03_well_5_2', 'plate_03_well_5_3', 'plate_03_well_5_4', 'plate_03_well_5_5', 'plate_03_well_5_6', 'plate_03_well_5_7', 'plate_03_well_6_0', 'plate_03_well_6_1', 'plate_03_well_6_2', 'plate_03_well_6_3', 'plate_03_well_6_4', 'plate_03_well_6_5', 'plate_03_well_6_6', 'plate_03_well_6_7', 'plate_03_well_7_0', 'plate_03_well_7_1', 'plate_03_well_7_2', 'plate_03_well_7_3', 'plate_03_well_7_4', 'plate_03_well_7_5', 'plate_03_well_7_6', 'plate_03_well_7_7', 'plate_03_well_8_0', 'plate_03_well_8_1', 'plate_03_well_8_2', 'plate_03_well_8_3', 'plate_03_well_8_4', 'plate_03_well_8_5', 'plate_03_well_8_6', 'plate_03_well_8_7', 'plate_03_well_9_0', 'plate_03_well_9_1', 'plate_03_well_9_2', 'plate_03_well_9_3', 'plate_03_well_9_4', 'plate_03_well_9_5', 'plate_03_well_9_6', 'plate_03_well_9_7', 'plate_03_well_10_0', 'plate_03_well_10_1', 'plate_03_well_10_2', 'plate_03_well_10_3', 'plate_03_well_10_4', 'plate_03_well_10_5', 'plate_03_well_10_6', 'plate_03_well_10_7', 'plate_03_well_11_0', 'plate_03_well_11_1', 'plate_03_well_11_2', 'plate_03_well_11_3', 'plate_03_well_11_4', 'plate_03_well_11_5', 'plate_03_well_11_6', 'plate_03_well_11_7'])\n",
            "dict_keys([])\n",
            "dict_keys(['name', 'type', 'size_x', 'size_y', 'size_z', 'location', 'rotation', 'category', 'model', 'children', 'parent_name', 'ordering'])\n",
            "[{'name': 'plate_02_well_0_0', 'type': 'Well', 'size_x': 6.86, 'size_y': 6.86, 'size_z': 10.67, 'location': {'x': 10.87, 'y': 70.77, 'z': 3.03, 'type': 'Coordinate'}, 'rotation': {'x': 0, 'y': 0, 'z': 0, 'type': 'Rotation'}, 'category': 'well', 'model': None, 'children': [], 'parent_name': 'plate_02', 'max_volume': 360, 'material_z_thickness': 0.5, 'compute_volume_from_height': None, 'compute_height_from_volume': None, 'bottom_type': 'flat', 'cross_section_type': 'circle'}, {'name': 'plate_02_well_0_1', 'type': 'Well', 'size_x': 6.86, 'size_y': 6.86, 'size_z': 10.67, 'location': {'x': 10.87, 'y': 61.77, 'z': 3.03, 'type': 'Coordinate'}, 'rotation': {'x': 0, 'y': 0, 'z': 0, 'type': 'Rotation'}, 'category': 'well', 'model': None, 'children': [], 'parent_name': 'plate_02', 'max_volume': 360, 'material_z_thickness': 0.5, 'compute_volume_from_height': None, 'compute_height_from_volume': None, 'bottom_type': 'flat', 'cross_section_type': 'circle'}, {'name': 'plate_02_well_0_2', 'type': 'Well', 'size_x': 6.86, 'size_y': 6.86, 'size_z': 10.67, 'location': {'x': 10.87, 'y': 52.77, 'z': 3.03, 'type': 'Coordinate'}, 'rotation': {'x': 0, 'y': 0, 'z': 0, 'type': 'Rotation'}, 'category': 'well', 'model': None, 'children': [], 'parent_name': 'plate_02', 'max_volume': 360, 'material_z_thickness': 0.5, 'compute_volume_from_height': None, 'compute_height_from_volume': None, 'bottom_type': 'flat', 'cross_section_type': 'circle'}, {'name': 'plate_02_well_0_3', 'type': 'Well', 'size_x': 6.86, 'size_y': 6.86, 'size_z': 10.67, 'location': {'x': 10.87, 'y': 43.77, 'z': 3.03, 'type': 'Coordinate'}, 'rotation': {'x': 0, 'y': 0, 'z': 0, 'type': 'Rotation'}, 'category': 'well', 'model': None, 'children': [], 'parent_name': 'plate_02', 'max_volume': 360, 'material_z_thickness': 0.5, 'compute_volume_from_height': None, 'compute_height_from_volume': None, 'bottom_type': 'flat', 'cross_section_type': 'circle'}, {'name': 'plate_02_well_0_4', 'type': 'Well', 'size_x': 6.86, 'size_y': 6.86, 'size_z': 10.67, 'location': {'x': 10.87, 'y': 34.77, 'z': 3.03, 'type': 'Coordinate'}, 'rotation': {'x': 0, 'y': 0, 'z': 0, 'type': 'Rotation'}, 'category': 'well', 'model': None, 'children': [], 'parent_name': 'plate_02', 'max_volume': 360, 'material_z_thickness': 0.5, 'compute_volume_from_height': None, 'compute_height_from_volume': None, 'bottom_type': 'flat', 'cross_section_type': 'circle'}, {'name': 'plate_02_well_0_5', 'type': 'Well', 'size_x': 6.86, 'size_y': 6.86, 'size_z': 10.67, 'location': {'x': 10.87, 'y': 25.77, 'z': 3.03, 'type': 'Coordinate'}, 'rotation': {'x': 0, 'y': 0, 'z': 0, 'type': 'Rotation'}, 'category': 'well', 'model': None, 'children': [], 'parent_name': 'plate_02', 'max_volume': 360, 'material_z_thickness': 0.5, 'compute_volume_from_height': None, 'compute_height_from_volume': None, 'bottom_type': 'flat', 'cross_section_type': 'circle'}, {'name': 'plate_02_well_0_6', 'type': 'Well', 'size_x': 6.86, 'size_y': 6.86, 'size_z': 10.67, 'location': {'x': 10.87, 'y': 16.77, 'z': 3.03, 'type': 'Coordinate'}, 'rotation': {'x': 0, 'y': 0, 'z': 0, 'type': 'Rotation'}, 'category': 'well', 'model': None, 'children': [], 'parent_name': 'plate_02', 'max_volume': 360, 'material_z_thickness': 0.5, 'compute_volume_from_height': None, 'compute_height_from_volume': None, 'bottom_type': 'flat', 'cross_section_type': 'circle'}, {'name': 'plate_02_well_0_7', 'type': 'Well', 'size_x': 6.86, 'size_y': 6.86, 'size_z': 10.67, 'location': {'x': 10.87, 'y': 7.77, 'z': 3.03, 'type': 'Coordinate'}, 'rotation': {'x': 0, 'y': 0, 'z': 0, 'type': 'Rotation'}, 'category': 'well', 'model': None, 'children': [], 'parent_name': 'plate_02', 'max_volume': 360, 'material_z_thickness': 0.5, 'compute_volume_from_height': None, 'compute_height_from_volume': None, 'bottom_type': 'flat', 'cross_section_type': 'circle'}, {'name': 'plate_02_well_1_0', 'type': 'Well', 'size_x': 6.86, 'size_y': 6.86, 'size_z': 10.67, 'location': {'x': 19.87, 'y': 70.77, 'z': 3.03, 'type': 'Coordinate'}, 'rotation': {'x': 0, 'y': 0, 'z': 0, 'type': 'Rotation'}, 'category': 'well', 'model': None, 'children': [], 'parent_name': 'plate_02', 'max_volume': 360, 'material_z_thickness': 0.5, 'compute_volume_from_height': None, 'compute_height_from_volume': None, 'bottom_type': 'flat', 'cross_section_type': 'circle'}, {'name': 'plate_02_well_1_1', 'type': 'Well', 'size_x': 6.86, 'size_y': 6.86, 'size_z': 10.67, 'location': {'x': 19.87, 'y': 61.77, 'z': 3.03, 'type': 'Coordinate'}, 'rotation': {'x': 0, 'y': 0, 'z': 0, 'type': 'Rotation'}, 'category': 'well', 'model': None, 'children': [], 'parent_name': 'plate_02', 'max_volume': 360, 'material_z_thickness': 0.5, 'compute_volume_from_height': None, 'compute_height_from_volume': None, 'bottom_type': 'flat', 'cross_section_type': 'circle'}, {'name': 'plate_02_well_1_2', 'type': 'Well', 'size_x': 6.86, 'size_y': 6.86, 'size_z': 10.67, 'location': {'x': 19.87, 'y': 52.77, 'z': 3.03, 'type': 'Coordinate'}, 'rotation': {'x': 0, 'y': 0, 'z': 0, 'type': 'Rotation'}, 'category': 'well', 'model': None, 'children': [], 'parent_name': 'plate_02', 'max_volume': 360, 'material_z_thickness': 0.5, 'compute_volume_from_height': None, 'compute_height_from_volume': None, 'bottom_type': 'flat', 'cross_section_type': 'circle'}, {'name': 'plate_02_well_1_3', 'type': 'Well', 'size_x': 6.86, 'size_y': 6.86, 'size_z': 10.67, 'location': {'x': 19.87, 'y': 43.77, 'z': 3.03, 'type': 'Coordinate'}, 'rotation': {'x': 0, 'y': 0, 'z': 0, 'type': 'Rotation'}, 'category': 'well', 'model': None, 'children': [], 'parent_name': 'plate_02', 'max_volume': 360, 'material_z_thickness': 0.5, 'compute_volume_from_height': None, 'compute_height_from_volume': None, 'bottom_type': 'flat', 'cross_section_type': 'circle'}, {'name': 'plate_02_well_1_4', 'type': 'Well', 'size_x': 6.86, 'size_y': 6.86, 'size_z': 10.67, 'location': {'x': 19.87, 'y': 34.77, 'z': 3.03, 'type': 'Coordinate'}, 'rotation': {'x': 0, 'y': 0, 'z': 0, 'type': 'Rotation'}, 'category': 'well', 'model': None, 'children': [], 'parent_name': 'plate_02', 'max_volume': 360, 'material_z_thickness': 0.5, 'compute_volume_from_height': None, 'compute_height_from_volume': None, 'bottom_type': 'flat', 'cross_section_type': 'circle'}, {'name': 'plate_02_well_1_5', 'type': 'Well', 'size_x': 6.86, 'size_y': 6.86, 'size_z': 10.67, 'location': {'x': 19.87, 'y': 25.77, 'z': 3.03, 'type': 'Coordinate'}, 'rotation': {'x': 0, 'y': 0, 'z': 0, 'type': 'Rotation'}, 'category': 'well', 'model': None, 'children': [], 'parent_name': 'plate_02', 'max_volume': 360, 'material_z_thickness': 0.5, 'compute_volume_from_height': None, 'compute_height_from_volume': None, 'bottom_type': 'flat', 'cross_section_type': 'circle'}, {'name': 'plate_02_well_1_6', 'type': 'Well', 'size_x': 6.86, 'size_y': 6.86, 'size_z': 10.67, 'location': {'x': 19.87, 'y': 16.77, 'z': 3.03, 'type': 'Coordinate'}, 'rotation': {'x': 0, 'y': 0, 'z': 0, 'type': 'Rotation'}, 'category': 'well', 'model': None, 'children': [], 'parent_name': 'plate_02', 'max_volume': 360, 'material_z_thickness': 0.5, 'compute_volume_from_height': None, 'compute_height_from_volume': None, 'bottom_type': 'flat', 'cross_section_type': 'circle'}, {'name': 'plate_02_well_1_7', 'type': 'Well', 'size_x': 6.86, 'size_y': 6.86, 'size_z': 10.67, 'location': {'x': 19.87, 'y': 7.77, 'z': 3.03, 'type': 'Coordinate'}, 'rotation': {'x': 0, 'y': 0, 'z': 0, 'type': 'Rotation'}, 'category': 'well', 'model': None, 'children': [], 'parent_name': 'plate_02', 'max_volume': 360, 'material_z_thickness': 0.5, 'compute_volume_from_height': None, 'compute_height_from_volume': None, 'bottom_type': 'flat', 'cross_section_type': 'circle'}, {'name': 'plate_02_well_2_0', 'type': 'Well', 'size_x': 6.86, 'size_y': 6.86, 'size_z': 10.67, 'location': {'x': 28.87, 'y': 70.77, 'z': 3.03, 'type': 'Coordinate'}, 'rotation': {'x': 0, 'y': 0, 'z': 0, 'type': 'Rotation'}, 'category': 'well', 'model': None, 'children': [], 'parent_name': 'plate_02', 'max_volume': 360, 'material_z_thickness': 0.5, 'compute_volume_from_height': None, 'compute_height_from_volume': None, 'bottom_type': 'flat', 'cross_section_type': 'circle'}, {'name': 'plate_02_well_2_1', 'type': 'Well', 'size_x': 6.86, 'size_y': 6.86, 'size_z': 10.67, 'location': {'x': 28.87, 'y': 61.77, 'z': 3.03, 'type': 'Coordinate'}, 'rotation': {'x': 0, 'y': 0, 'z': 0, 'type': 'Rotation'}, 'category': 'well', 'model': None, 'children': [], 'parent_name': 'plate_02', 'max_volume': 360, 'material_z_thickness': 0.5, 'compute_volume_from_height': None, 'compute_height_from_volume': None, 'bottom_type': 'flat', 'cross_section_type': 'circle'}, {'name': 'plate_02_well_2_2', 'type': 'Well', 'size_x': 6.86, 'size_y': 6.86, 'size_z': 10.67, 'location': {'x': 28.87, 'y': 52.77, 'z': 3.03, 'type': 'Coordinate'}, 'rotation': {'x': 0, 'y': 0, 'z': 0, 'type': 'Rotation'}, 'category': 'well', 'model': None, 'children': [], 'parent_name': 'plate_02', 'max_volume': 360, 'material_z_thickness': 0.5, 'compute_volume_from_height': None, 'compute_height_from_volume': None, 'bottom_type': 'flat', 'cross_section_type': 'circle'}, {'name': 'plate_02_well_2_3', 'type': 'Well', 'size_x': 6.86, 'size_y': 6.86, 'size_z': 10.67, 'location': {'x': 28.87, 'y': 43.77, 'z': 3.03, 'type': 'Coordinate'}, 'rotation': {'x': 0, 'y': 0, 'z': 0, 'type': 'Rotation'}, 'category': 'well', 'model': None, 'children': [], 'parent_name': 'plate_02', 'max_volume': 360, 'material_z_thickness': 0.5, 'compute_volume_from_height': None, 'compute_height_from_volume': None, 'bottom_type': 'flat', 'cross_section_type': 'circle'}, {'name': 'plate_02_well_2_4', 'type': 'Well', 'size_x': 6.86, 'size_y': 6.86, 'size_z': 10.67, 'location': {'x': 28.87, 'y': 34.77, 'z': 3.03, 'type': 'Coordinate'}, 'rotation': {'x': 0, 'y': 0, 'z': 0, 'type': 'Rotation'}, 'category': 'well', 'model': None, 'children': [], 'parent_name': 'plate_02', 'max_volume': 360, 'material_z_thickness': 0.5, 'compute_volume_from_height': None, 'compute_height_from_volume': None, 'bottom_type': 'flat', 'cross_section_type': 'circle'}, {'name': 'plate_02_well_2_5', 'type': 'Well', 'size_x': 6.86, 'size_y': 6.86, 'size_z': 10.67, 'location': {'x': 28.87, 'y': 25.77, 'z': 3.03, 'type': 'Coordinate'}, 'rotation': {'x': 0, 'y': 0, 'z': 0, 'type': 'Rotation'}, 'category': 'well', 'model': None, 'children': [], 'parent_name': 'plate_02', 'max_volume': 360, 'material_z_thickness': 0.5, 'compute_volume_from_height': None, 'compute_height_from_volume': None, 'bottom_type': 'flat', 'cross_section_type': 'circle'}, {'name': 'plate_02_well_2_6', 'type': 'Well', 'size_x': 6.86, 'size_y': 6.86, 'size_z': 10.67, 'location': {'x': 28.87, 'y': 16.77, 'z': 3.03, 'type': 'Coordinate'}, 'rotation': {'x': 0, 'y': 0, 'z': 0, 'type': 'Rotation'}, 'category': 'well', 'model': None, 'children': [], 'parent_name': 'plate_02', 'max_volume': 360, 'material_z_thickness': 0.5, 'compute_volume_from_height': None, 'compute_height_from_volume': None, 'bottom_type': 'flat', 'cross_section_type': 'circle'}, {'name': 'plate_02_well_2_7', 'type': 'Well', 'size_x': 6.86, 'size_y': 6.86, 'size_z': 10.67, 'location': {'x': 28.87, 'y': 7.77, 'z': 3.03, 'type': 'Coordinate'}, 'rotation': {'x': 0, 'y': 0, 'z': 0, 'type': 'Rotation'}, 'category': 'well', 'model': None, 'children': [], 'parent_name': 'plate_02', 'max_volume': 360, 'material_z_thickness': 0.5, 'compute_volume_from_height': None, 'compute_height_from_volume': None, 'bottom_type': 'flat', 'cross_section_type': 'circle'}, {'name': 'plate_02_well_3_0', 'type': 'Well', 'size_x': 6.86, 'size_y': 6.86, 'size_z': 10.67, 'location': {'x': 37.87, 'y': 70.77, 'z': 3.03, 'type': 'Coordinate'}, 'rotation': {'x': 0, 'y': 0, 'z': 0, 'type': 'Rotation'}, 'category': 'well', 'model': None, 'children': [], 'parent_name': 'plate_02', 'max_volume': 360, 'material_z_thickness': 0.5, 'compute_volume_from_height': None, 'compute_height_from_volume': None, 'bottom_type': 'flat', 'cross_section_type': 'circle'}, {'name': 'plate_02_well_3_1', 'type': 'Well', 'size_x': 6.86, 'size_y': 6.86, 'size_z': 10.67, 'location': {'x': 37.87, 'y': 61.77, 'z': 3.03, 'type': 'Coordinate'}, 'rotation': {'x': 0, 'y': 0, 'z': 0, 'type': 'Rotation'}, 'category': 'well', 'model': None, 'children': [], 'parent_name': 'plate_02', 'max_volume': 360, 'material_z_thickness': 0.5, 'compute_volume_from_height': None, 'compute_height_from_volume': None, 'bottom_type': 'flat', 'cross_section_type': 'circle'}, {'name': 'plate_02_well_3_2', 'type': 'Well', 'size_x': 6.86, 'size_y': 6.86, 'size_z': 10.67, 'location': {'x': 37.87, 'y': 52.77, 'z': 3.03, 'type': 'Coordinate'}, 'rotation': {'x': 0, 'y': 0, 'z': 0, 'type': 'Rotation'}, 'category': 'well', 'model': None, 'children': [], 'parent_name': 'plate_02', 'max_volume': 360, 'material_z_thickness': 0.5, 'compute_volume_from_height': None, 'compute_height_from_volume': None, 'bottom_type': 'flat', 'cross_section_type': 'circle'}, {'name': 'plate_02_well_3_3', 'type': 'Well', 'size_x': 6.86, 'size_y': 6.86, 'size_z': 10.67, 'location': {'x': 37.87, 'y': 43.77, 'z': 3.03, 'type': 'Coordinate'}, 'rotation': {'x': 0, 'y': 0, 'z': 0, 'type': 'Rotation'}, 'category': 'well', 'model': None, 'children': [], 'parent_name': 'plate_02', 'max_volume': 360, 'material_z_thickness': 0.5, 'compute_volume_from_height': None, 'compute_height_from_volume': None, 'bottom_type': 'flat', 'cross_section_type': 'circle'}, {'name': 'plate_02_well_3_4', 'type': 'Well', 'size_x': 6.86, 'size_y': 6.86, 'size_z': 10.67, 'location': {'x': 37.87, 'y': 34.77, 'z': 3.03, 'type': 'Coordinate'}, 'rotation': {'x': 0, 'y': 0, 'z': 0, 'type': 'Rotation'}, 'category': 'well', 'model': None, 'children': [], 'parent_name': 'plate_02', 'max_volume': 360, 'material_z_thickness': 0.5, 'compute_volume_from_height': None, 'compute_height_from_volume': None, 'bottom_type': 'flat', 'cross_section_type': 'circle'}, {'name': 'plate_02_well_3_5', 'type': 'Well', 'size_x': 6.86, 'size_y': 6.86, 'size_z': 10.67, 'location': {'x': 37.87, 'y': 25.77, 'z': 3.03, 'type': 'Coordinate'}, 'rotation': {'x': 0, 'y': 0, 'z': 0, 'type': 'Rotation'}, 'category': 'well', 'model': None, 'children': [], 'parent_name': 'plate_02', 'max_volume': 360, 'material_z_thickness': 0.5, 'compute_volume_from_height': None, 'compute_height_from_volume': None, 'bottom_type': 'flat', 'cross_section_type': 'circle'}, {'name': 'plate_02_well_3_6', 'type': 'Well', 'size_x': 6.86, 'size_y': 6.86, 'size_z': 10.67, 'location': {'x': 37.87, 'y': 16.77, 'z': 3.03, 'type': 'Coordinate'}, 'rotation': {'x': 0, 'y': 0, 'z': 0, 'type': 'Rotation'}, 'category': 'well', 'model': None, 'children': [], 'parent_name': 'plate_02', 'max_volume': 360, 'material_z_thickness': 0.5, 'compute_volume_from_height': None, 'compute_height_from_volume': None, 'bottom_type': 'flat', 'cross_section_type': 'circle'}, {'name': 'plate_02_well_3_7', 'type': 'Well', 'size_x': 6.86, 'size_y': 6.86, 'size_z': 10.67, 'location': {'x': 37.87, 'y': 7.77, 'z': 3.03, 'type': 'Coordinate'}, 'rotation': {'x': 0, 'y': 0, 'z': 0, 'type': 'Rotation'}, 'category': 'well', 'model': None, 'children': [], 'parent_name': 'plate_02', 'max_volume': 360, 'material_z_thickness': 0.5, 'compute_volume_from_height': None, 'compute_height_from_volume': None, 'bottom_type': 'flat', 'cross_section_type': 'circle'}, {'name': 'plate_02_well_4_0', 'type': 'Well', 'size_x': 6.86, 'size_y': 6.86, 'size_z': 10.67, 'location': {'x': 46.87, 'y': 70.77, 'z': 3.03, 'type': 'Coordinate'}, 'rotation': {'x': 0, 'y': 0, 'z': 0, 'type': 'Rotation'}, 'category': 'well', 'model': None, 'children': [], 'parent_name': 'plate_02', 'max_volume': 360, 'material_z_thickness': 0.5, 'compute_volume_from_height': None, 'compute_height_from_volume': None, 'bottom_type': 'flat', 'cross_section_type': 'circle'}, {'name': 'plate_02_well_4_1', 'type': 'Well', 'size_x': 6.86, 'size_y': 6.86, 'size_z': 10.67, 'location': {'x': 46.87, 'y': 61.77, 'z': 3.03, 'type': 'Coordinate'}, 'rotation': {'x': 0, 'y': 0, 'z': 0, 'type': 'Rotation'}, 'category': 'well', 'model': None, 'children': [], 'parent_name': 'plate_02', 'max_volume': 360, 'material_z_thickness': 0.5, 'compute_volume_from_height': None, 'compute_height_from_volume': None, 'bottom_type': 'flat', 'cross_section_type': 'circle'}, {'name': 'plate_02_well_4_2', 'type': 'Well', 'size_x': 6.86, 'size_y': 6.86, 'size_z': 10.67, 'location': {'x': 46.87, 'y': 52.77, 'z': 3.03, 'type': 'Coordinate'}, 'rotation': {'x': 0, 'y': 0, 'z': 0, 'type': 'Rotation'}, 'category': 'well', 'model': None, 'children': [], 'parent_name': 'plate_02', 'max_volume': 360, 'material_z_thickness': 0.5, 'compute_volume_from_height': None, 'compute_height_from_volume': None, 'bottom_type': 'flat', 'cross_section_type': 'circle'}, {'name': 'plate_02_well_4_3', 'type': 'Well', 'size_x': 6.86, 'size_y': 6.86, 'size_z': 10.67, 'location': {'x': 46.87, 'y': 43.77, 'z': 3.03, 'type': 'Coordinate'}, 'rotation': {'x': 0, 'y': 0, 'z': 0, 'type': 'Rotation'}, 'category': 'well', 'model': None, 'children': [], 'parent_name': 'plate_02', 'max_volume': 360, 'material_z_thickness': 0.5, 'compute_volume_from_height': None, 'compute_height_from_volume': None, 'bottom_type': 'flat', 'cross_section_type': 'circle'}, {'name': 'plate_02_well_4_4', 'type': 'Well', 'size_x': 6.86, 'size_y': 6.86, 'size_z': 10.67, 'location': {'x': 46.87, 'y': 34.77, 'z': 3.03, 'type': 'Coordinate'}, 'rotation': {'x': 0, 'y': 0, 'z': 0, 'type': 'Rotation'}, 'category': 'well', 'model': None, 'children': [], 'parent_name': 'plate_02', 'max_volume': 360, 'material_z_thickness': 0.5, 'compute_volume_from_height': None, 'compute_height_from_volume': None, 'bottom_type': 'flat', 'cross_section_type': 'circle'}, {'name': 'plate_02_well_4_5', 'type': 'Well', 'size_x': 6.86, 'size_y': 6.86, 'size_z': 10.67, 'location': {'x': 46.87, 'y': 25.77, 'z': 3.03, 'type': 'Coordinate'}, 'rotation': {'x': 0, 'y': 0, 'z': 0, 'type': 'Rotation'}, 'category': 'well', 'model': None, 'children': [], 'parent_name': 'plate_02', 'max_volume': 360, 'material_z_thickness': 0.5, 'compute_volume_from_height': None, 'compute_height_from_volume': None, 'bottom_type': 'flat', 'cross_section_type': 'circle'}, {'name': 'plate_02_well_4_6', 'type': 'Well', 'size_x': 6.86, 'size_y': 6.86, 'size_z': 10.67, 'location': {'x': 46.87, 'y': 16.77, 'z': 3.03, 'type': 'Coordinate'}, 'rotation': {'x': 0, 'y': 0, 'z': 0, 'type': 'Rotation'}, 'category': 'well', 'model': None, 'children': [], 'parent_name': 'plate_02', 'max_volume': 360, 'material_z_thickness': 0.5, 'compute_volume_from_height': None, 'compute_height_from_volume': None, 'bottom_type': 'flat', 'cross_section_type': 'circle'}, {'name': 'plate_02_well_4_7', 'type': 'Well', 'size_x': 6.86, 'size_y': 6.86, 'size_z': 10.67, 'location': {'x': 46.87, 'y': 7.77, 'z': 3.03, 'type': 'Coordinate'}, 'rotation': {'x': 0, 'y': 0, 'z': 0, 'type': 'Rotation'}, 'category': 'well', 'model': None, 'children': [], 'parent_name': 'plate_02', 'max_volume': 360, 'material_z_thickness': 0.5, 'compute_volume_from_height': None, 'compute_height_from_volume': None, 'bottom_type': 'flat', 'cross_section_type': 'circle'}, {'name': 'plate_02_well_5_0', 'type': 'Well', 'size_x': 6.86, 'size_y': 6.86, 'size_z': 10.67, 'location': {'x': 55.87, 'y': 70.77, 'z': 3.03, 'type': 'Coordinate'}, 'rotation': {'x': 0, 'y': 0, 'z': 0, 'type': 'Rotation'}, 'category': 'well', 'model': None, 'children': [], 'parent_name': 'plate_02', 'max_volume': 360, 'material_z_thickness': 0.5, 'compute_volume_from_height': None, 'compute_height_from_volume': None, 'bottom_type': 'flat', 'cross_section_type': 'circle'}, {'name': 'plate_02_well_5_1', 'type': 'Well', 'size_x': 6.86, 'size_y': 6.86, 'size_z': 10.67, 'location': {'x': 55.87, 'y': 61.77, 'z': 3.03, 'type': 'Coordinate'}, 'rotation': {'x': 0, 'y': 0, 'z': 0, 'type': 'Rotation'}, 'category': 'well', 'model': None, 'children': [], 'parent_name': 'plate_02', 'max_volume': 360, 'material_z_thickness': 0.5, 'compute_volume_from_height': None, 'compute_height_from_volume': None, 'bottom_type': 'flat', 'cross_section_type': 'circle'}, {'name': 'plate_02_well_5_2', 'type': 'Well', 'size_x': 6.86, 'size_y': 6.86, 'size_z': 10.67, 'location': {'x': 55.87, 'y': 52.77, 'z': 3.03, 'type': 'Coordinate'}, 'rotation': {'x': 0, 'y': 0, 'z': 0, 'type': 'Rotation'}, 'category': 'well', 'model': None, 'children': [], 'parent_name': 'plate_02', 'max_volume': 360, 'material_z_thickness': 0.5, 'compute_volume_from_height': None, 'compute_height_from_volume': None, 'bottom_type': 'flat', 'cross_section_type': 'circle'}, {'name': 'plate_02_well_5_3', 'type': 'Well', 'size_x': 6.86, 'size_y': 6.86, 'size_z': 10.67, 'location': {'x': 55.87, 'y': 43.77, 'z': 3.03, 'type': 'Coordinate'}, 'rotation': {'x': 0, 'y': 0, 'z': 0, 'type': 'Rotation'}, 'category': 'well', 'model': None, 'children': [], 'parent_name': 'plate_02', 'max_volume': 360, 'material_z_thickness': 0.5, 'compute_volume_from_height': None, 'compute_height_from_volume': None, 'bottom_type': 'flat', 'cross_section_type': 'circle'}, {'name': 'plate_02_well_5_4', 'type': 'Well', 'size_x': 6.86, 'size_y': 6.86, 'size_z': 10.67, 'location': {'x': 55.87, 'y': 34.77, 'z': 3.03, 'type': 'Coordinate'}, 'rotation': {'x': 0, 'y': 0, 'z': 0, 'type': 'Rotation'}, 'category': 'well', 'model': None, 'children': [], 'parent_name': 'plate_02', 'max_volume': 360, 'material_z_thickness': 0.5, 'compute_volume_from_height': None, 'compute_height_from_volume': None, 'bottom_type': 'flat', 'cross_section_type': 'circle'}, {'name': 'plate_02_well_5_5', 'type': 'Well', 'size_x': 6.86, 'size_y': 6.86, 'size_z': 10.67, 'location': {'x': 55.87, 'y': 25.77, 'z': 3.03, 'type': 'Coordinate'}, 'rotation': {'x': 0, 'y': 0, 'z': 0, 'type': 'Rotation'}, 'category': 'well', 'model': None, 'children': [], 'parent_name': 'plate_02', 'max_volume': 360, 'material_z_thickness': 0.5, 'compute_volume_from_height': None, 'compute_height_from_volume': None, 'bottom_type': 'flat', 'cross_section_type': 'circle'}, {'name': 'plate_02_well_5_6', 'type': 'Well', 'size_x': 6.86, 'size_y': 6.86, 'size_z': 10.67, 'location': {'x': 55.87, 'y': 16.77, 'z': 3.03, 'type': 'Coordinate'}, 'rotation': {'x': 0, 'y': 0, 'z': 0, 'type': 'Rotation'}, 'category': 'well', 'model': None, 'children': [], 'parent_name': 'plate_02', 'max_volume': 360, 'material_z_thickness': 0.5, 'compute_volume_from_height': None, 'compute_height_from_volume': None, 'bottom_type': 'flat', 'cross_section_type': 'circle'}, {'name': 'plate_02_well_5_7', 'type': 'Well', 'size_x': 6.86, 'size_y': 6.86, 'size_z': 10.67, 'location': {'x': 55.87, 'y': 7.77, 'z': 3.03, 'type': 'Coordinate'}, 'rotation': {'x': 0, 'y': 0, 'z': 0, 'type': 'Rotation'}, 'category': 'well', 'model': None, 'children': [], 'parent_name': 'plate_02', 'max_volume': 360, 'material_z_thickness': 0.5, 'compute_volume_from_height': None, 'compute_height_from_volume': None, 'bottom_type': 'flat', 'cross_section_type': 'circle'}, {'name': 'plate_02_well_6_0', 'type': 'Well', 'size_x': 6.86, 'size_y': 6.86, 'size_z': 10.67, 'location': {'x': 64.87, 'y': 70.77, 'z': 3.03, 'type': 'Coordinate'}, 'rotation': {'x': 0, 'y': 0, 'z': 0, 'type': 'Rotation'}, 'category': 'well', 'model': None, 'children': [], 'parent_name': 'plate_02', 'max_volume': 360, 'material_z_thickness': 0.5, 'compute_volume_from_height': None, 'compute_height_from_volume': None, 'bottom_type': 'flat', 'cross_section_type': 'circle'}, {'name': 'plate_02_well_6_1', 'type': 'Well', 'size_x': 6.86, 'size_y': 6.86, 'size_z': 10.67, 'location': {'x': 64.87, 'y': 61.77, 'z': 3.03, 'type': 'Coordinate'}, 'rotation': {'x': 0, 'y': 0, 'z': 0, 'type': 'Rotation'}, 'category': 'well', 'model': None, 'children': [], 'parent_name': 'plate_02', 'max_volume': 360, 'material_z_thickness': 0.5, 'compute_volume_from_height': None, 'compute_height_from_volume': None, 'bottom_type': 'flat', 'cross_section_type': 'circle'}, {'name': 'plate_02_well_6_2', 'type': 'Well', 'size_x': 6.86, 'size_y': 6.86, 'size_z': 10.67, 'location': {'x': 64.87, 'y': 52.77, 'z': 3.03, 'type': 'Coordinate'}, 'rotation': {'x': 0, 'y': 0, 'z': 0, 'type': 'Rotation'}, 'category': 'well', 'model': None, 'children': [], 'parent_name': 'plate_02', 'max_volume': 360, 'material_z_thickness': 0.5, 'compute_volume_from_height': None, 'compute_height_from_volume': None, 'bottom_type': 'flat', 'cross_section_type': 'circle'}, {'name': 'plate_02_well_6_3', 'type': 'Well', 'size_x': 6.86, 'size_y': 6.86, 'size_z': 10.67, 'location': {'x': 64.87, 'y': 43.77, 'z': 3.03, 'type': 'Coordinate'}, 'rotation': {'x': 0, 'y': 0, 'z': 0, 'type': 'Rotation'}, 'category': 'well', 'model': None, 'children': [], 'parent_name': 'plate_02', 'max_volume': 360, 'material_z_thickness': 0.5, 'compute_volume_from_height': None, 'compute_height_from_volume': None, 'bottom_type': 'flat', 'cross_section_type': 'circle'}, {'name': 'plate_02_well_6_4', 'type': 'Well', 'size_x': 6.86, 'size_y': 6.86, 'size_z': 10.67, 'location': {'x': 64.87, 'y': 34.77, 'z': 3.03, 'type': 'Coordinate'}, 'rotation': {'x': 0, 'y': 0, 'z': 0, 'type': 'Rotation'}, 'category': 'well', 'model': None, 'children': [], 'parent_name': 'plate_02', 'max_volume': 360, 'material_z_thickness': 0.5, 'compute_volume_from_height': None, 'compute_height_from_volume': None, 'bottom_type': 'flat', 'cross_section_type': 'circle'}, {'name': 'plate_02_well_6_5', 'type': 'Well', 'size_x': 6.86, 'size_y': 6.86, 'size_z': 10.67, 'location': {'x': 64.87, 'y': 25.77, 'z': 3.03, 'type': 'Coordinate'}, 'rotation': {'x': 0, 'y': 0, 'z': 0, 'type': 'Rotation'}, 'category': 'well', 'model': None, 'children': [], 'parent_name': 'plate_02', 'max_volume': 360, 'material_z_thickness': 0.5, 'compute_volume_from_height': None, 'compute_height_from_volume': None, 'bottom_type': 'flat', 'cross_section_type': 'circle'}, {'name': 'plate_02_well_6_6', 'type': 'Well', 'size_x': 6.86, 'size_y': 6.86, 'size_z': 10.67, 'location': {'x': 64.87, 'y': 16.77, 'z': 3.03, 'type': 'Coordinate'}, 'rotation': {'x': 0, 'y': 0, 'z': 0, 'type': 'Rotation'}, 'category': 'well', 'model': None, 'children': [], 'parent_name': 'plate_02', 'max_volume': 360, 'material_z_thickness': 0.5, 'compute_volume_from_height': None, 'compute_height_from_volume': None, 'bottom_type': 'flat', 'cross_section_type': 'circle'}, {'name': 'plate_02_well_6_7', 'type': 'Well', 'size_x': 6.86, 'size_y': 6.86, 'size_z': 10.67, 'location': {'x': 64.87, 'y': 7.77, 'z': 3.03, 'type': 'Coordinate'}, 'rotation': {'x': 0, 'y': 0, 'z': 0, 'type': 'Rotation'}, 'category': 'well', 'model': None, 'children': [], 'parent_name': 'plate_02', 'max_volume': 360, 'material_z_thickness': 0.5, 'compute_volume_from_height': None, 'compute_height_from_volume': None, 'bottom_type': 'flat', 'cross_section_type': 'circle'}, {'name': 'plate_02_well_7_0', 'type': 'Well', 'size_x': 6.86, 'size_y': 6.86, 'size_z': 10.67, 'location': {'x': 73.87, 'y': 70.77, 'z': 3.03, 'type': 'Coordinate'}, 'rotation': {'x': 0, 'y': 0, 'z': 0, 'type': 'Rotation'}, 'category': 'well', 'model': None, 'children': [], 'parent_name': 'plate_02', 'max_volume': 360, 'material_z_thickness': 0.5, 'compute_volume_from_height': None, 'compute_height_from_volume': None, 'bottom_type': 'flat', 'cross_section_type': 'circle'}, {'name': 'plate_02_well_7_1', 'type': 'Well', 'size_x': 6.86, 'size_y': 6.86, 'size_z': 10.67, 'location': {'x': 73.87, 'y': 61.77, 'z': 3.03, 'type': 'Coordinate'}, 'rotation': {'x': 0, 'y': 0, 'z': 0, 'type': 'Rotation'}, 'category': 'well', 'model': None, 'children': [], 'parent_name': 'plate_02', 'max_volume': 360, 'material_z_thickness': 0.5, 'compute_volume_from_height': None, 'compute_height_from_volume': None, 'bottom_type': 'flat', 'cross_section_type': 'circle'}, {'name': 'plate_02_well_7_2', 'type': 'Well', 'size_x': 6.86, 'size_y': 6.86, 'size_z': 10.67, 'location': {'x': 73.87, 'y': 52.77, 'z': 3.03, 'type': 'Coordinate'}, 'rotation': {'x': 0, 'y': 0, 'z': 0, 'type': 'Rotation'}, 'category': 'well', 'model': None, 'children': [], 'parent_name': 'plate_02', 'max_volume': 360, 'material_z_thickness': 0.5, 'compute_volume_from_height': None, 'compute_height_from_volume': None, 'bottom_type': 'flat', 'cross_section_type': 'circle'}, {'name': 'plate_02_well_7_3', 'type': 'Well', 'size_x': 6.86, 'size_y': 6.86, 'size_z': 10.67, 'location': {'x': 73.87, 'y': 43.77, 'z': 3.03, 'type': 'Coordinate'}, 'rotation': {'x': 0, 'y': 0, 'z': 0, 'type': 'Rotation'}, 'category': 'well', 'model': None, 'children': [], 'parent_name': 'plate_02', 'max_volume': 360, 'material_z_thickness': 0.5, 'compute_volume_from_height': None, 'compute_height_from_volume': None, 'bottom_type': 'flat', 'cross_section_type': 'circle'}, {'name': 'plate_02_well_7_4', 'type': 'Well', 'size_x': 6.86, 'size_y': 6.86, 'size_z': 10.67, 'location': {'x': 73.87, 'y': 34.77, 'z': 3.03, 'type': 'Coordinate'}, 'rotation': {'x': 0, 'y': 0, 'z': 0, 'type': 'Rotation'}, 'category': 'well', 'model': None, 'children': [], 'parent_name': 'plate_02', 'max_volume': 360, 'material_z_thickness': 0.5, 'compute_volume_from_height': None, 'compute_height_from_volume': None, 'bottom_type': 'flat', 'cross_section_type': 'circle'}, {'name': 'plate_02_well_7_5', 'type': 'Well', 'size_x': 6.86, 'size_y': 6.86, 'size_z': 10.67, 'location': {'x': 73.87, 'y': 25.77, 'z': 3.03, 'type': 'Coordinate'}, 'rotation': {'x': 0, 'y': 0, 'z': 0, 'type': 'Rotation'}, 'category': 'well', 'model': None, 'children': [], 'parent_name': 'plate_02', 'max_volume': 360, 'material_z_thickness': 0.5, 'compute_volume_from_height': None, 'compute_height_from_volume': None, 'bottom_type': 'flat', 'cross_section_type': 'circle'}, {'name': 'plate_02_well_7_6', 'type': 'Well', 'size_x': 6.86, 'size_y': 6.86, 'size_z': 10.67, 'location': {'x': 73.87, 'y': 16.77, 'z': 3.03, 'type': 'Coordinate'}, 'rotation': {'x': 0, 'y': 0, 'z': 0, 'type': 'Rotation'}, 'category': 'well', 'model': None, 'children': [], 'parent_name': 'plate_02', 'max_volume': 360, 'material_z_thickness': 0.5, 'compute_volume_from_height': None, 'compute_height_from_volume': None, 'bottom_type': 'flat', 'cross_section_type': 'circle'}, {'name': 'plate_02_well_7_7', 'type': 'Well', 'size_x': 6.86, 'size_y': 6.86, 'size_z': 10.67, 'location': {'x': 73.87, 'y': 7.77, 'z': 3.03, 'type': 'Coordinate'}, 'rotation': {'x': 0, 'y': 0, 'z': 0, 'type': 'Rotation'}, 'category': 'well', 'model': None, 'children': [], 'parent_name': 'plate_02', 'max_volume': 360, 'material_z_thickness': 0.5, 'compute_volume_from_height': None, 'compute_height_from_volume': None, 'bottom_type': 'flat', 'cross_section_type': 'circle'}, {'name': 'plate_02_well_8_0', 'type': 'Well', 'size_x': 6.86, 'size_y': 6.86, 'size_z': 10.67, 'location': {'x': 82.87, 'y': 70.77, 'z': 3.03, 'type': 'Coordinate'}, 'rotation': {'x': 0, 'y': 0, 'z': 0, 'type': 'Rotation'}, 'category': 'well', 'model': None, 'children': [], 'parent_name': 'plate_02', 'max_volume': 360, 'material_z_thickness': 0.5, 'compute_volume_from_height': None, 'compute_height_from_volume': None, 'bottom_type': 'flat', 'cross_section_type': 'circle'}, {'name': 'plate_02_well_8_1', 'type': 'Well', 'size_x': 6.86, 'size_y': 6.86, 'size_z': 10.67, 'location': {'x': 82.87, 'y': 61.77, 'z': 3.03, 'type': 'Coordinate'}, 'rotation': {'x': 0, 'y': 0, 'z': 0, 'type': 'Rotation'}, 'category': 'well', 'model': None, 'children': [], 'parent_name': 'plate_02', 'max_volume': 360, 'material_z_thickness': 0.5, 'compute_volume_from_height': None, 'compute_height_from_volume': None, 'bottom_type': 'flat', 'cross_section_type': 'circle'}, {'name': 'plate_02_well_8_2', 'type': 'Well', 'size_x': 6.86, 'size_y': 6.86, 'size_z': 10.67, 'location': {'x': 82.87, 'y': 52.77, 'z': 3.03, 'type': 'Coordinate'}, 'rotation': {'x': 0, 'y': 0, 'z': 0, 'type': 'Rotation'}, 'category': 'well', 'model': None, 'children': [], 'parent_name': 'plate_02', 'max_volume': 360, 'material_z_thickness': 0.5, 'compute_volume_from_height': None, 'compute_height_from_volume': None, 'bottom_type': 'flat', 'cross_section_type': 'circle'}, {'name': 'plate_02_well_8_3', 'type': 'Well', 'size_x': 6.86, 'size_y': 6.86, 'size_z': 10.67, 'location': {'x': 82.87, 'y': 43.77, 'z': 3.03, 'type': 'Coordinate'}, 'rotation': {'x': 0, 'y': 0, 'z': 0, 'type': 'Rotation'}, 'category': 'well', 'model': None, 'children': [], 'parent_name': 'plate_02', 'max_volume': 360, 'material_z_thickness': 0.5, 'compute_volume_from_height': None, 'compute_height_from_volume': None, 'bottom_type': 'flat', 'cross_section_type': 'circle'}, {'name': 'plate_02_well_8_4', 'type': 'Well', 'size_x': 6.86, 'size_y': 6.86, 'size_z': 10.67, 'location': {'x': 82.87, 'y': 34.77, 'z': 3.03, 'type': 'Coordinate'}, 'rotation': {'x': 0, 'y': 0, 'z': 0, 'type': 'Rotation'}, 'category': 'well', 'model': None, 'children': [], 'parent_name': 'plate_02', 'max_volume': 360, 'material_z_thickness': 0.5, 'compute_volume_from_height': None, 'compute_height_from_volume': None, 'bottom_type': 'flat', 'cross_section_type': 'circle'}, {'name': 'plate_02_well_8_5', 'type': 'Well', 'size_x': 6.86, 'size_y': 6.86, 'size_z': 10.67, 'location': {'x': 82.87, 'y': 25.77, 'z': 3.03, 'type': 'Coordinate'}, 'rotation': {'x': 0, 'y': 0, 'z': 0, 'type': 'Rotation'}, 'category': 'well', 'model': None, 'children': [], 'parent_name': 'plate_02', 'max_volume': 360, 'material_z_thickness': 0.5, 'compute_volume_from_height': None, 'compute_height_from_volume': None, 'bottom_type': 'flat', 'cross_section_type': 'circle'}, {'name': 'plate_02_well_8_6', 'type': 'Well', 'size_x': 6.86, 'size_y': 6.86, 'size_z': 10.67, 'location': {'x': 82.87, 'y': 16.77, 'z': 3.03, 'type': 'Coordinate'}, 'rotation': {'x': 0, 'y': 0, 'z': 0, 'type': 'Rotation'}, 'category': 'well', 'model': None, 'children': [], 'parent_name': 'plate_02', 'max_volume': 360, 'material_z_thickness': 0.5, 'compute_volume_from_height': None, 'compute_height_from_volume': None, 'bottom_type': 'flat', 'cross_section_type': 'circle'}, {'name': 'plate_02_well_8_7', 'type': 'Well', 'size_x': 6.86, 'size_y': 6.86, 'size_z': 10.67, 'location': {'x': 82.87, 'y': 7.77, 'z': 3.03, 'type': 'Coordinate'}, 'rotation': {'x': 0, 'y': 0, 'z': 0, 'type': 'Rotation'}, 'category': 'well', 'model': None, 'children': [], 'parent_name': 'plate_02', 'max_volume': 360, 'material_z_thickness': 0.5, 'compute_volume_from_height': None, 'compute_height_from_volume': None, 'bottom_type': 'flat', 'cross_section_type': 'circle'}, {'name': 'plate_02_well_9_0', 'type': 'Well', 'size_x': 6.86, 'size_y': 6.86, 'size_z': 10.67, 'location': {'x': 91.87, 'y': 70.77, 'z': 3.03, 'type': 'Coordinate'}, 'rotation': {'x': 0, 'y': 0, 'z': 0, 'type': 'Rotation'}, 'category': 'well', 'model': None, 'children': [], 'parent_name': 'plate_02', 'max_volume': 360, 'material_z_thickness': 0.5, 'compute_volume_from_height': None, 'compute_height_from_volume': None, 'bottom_type': 'flat', 'cross_section_type': 'circle'}, {'name': 'plate_02_well_9_1', 'type': 'Well', 'size_x': 6.86, 'size_y': 6.86, 'size_z': 10.67, 'location': {'x': 91.87, 'y': 61.77, 'z': 3.03, 'type': 'Coordinate'}, 'rotation': {'x': 0, 'y': 0, 'z': 0, 'type': 'Rotation'}, 'category': 'well', 'model': None, 'children': [], 'parent_name': 'plate_02', 'max_volume': 360, 'material_z_thickness': 0.5, 'compute_volume_from_height': None, 'compute_height_from_volume': None, 'bottom_type': 'flat', 'cross_section_type': 'circle'}, {'name': 'plate_02_well_9_2', 'type': 'Well', 'size_x': 6.86, 'size_y': 6.86, 'size_z': 10.67, 'location': {'x': 91.87, 'y': 52.77, 'z': 3.03, 'type': 'Coordinate'}, 'rotation': {'x': 0, 'y': 0, 'z': 0, 'type': 'Rotation'}, 'category': 'well', 'model': None, 'children': [], 'parent_name': 'plate_02', 'max_volume': 360, 'material_z_thickness': 0.5, 'compute_volume_from_height': None, 'compute_height_from_volume': None, 'bottom_type': 'flat', 'cross_section_type': 'circle'}, {'name': 'plate_02_well_9_3', 'type': 'Well', 'size_x': 6.86, 'size_y': 6.86, 'size_z': 10.67, 'location': {'x': 91.87, 'y': 43.77, 'z': 3.03, 'type': 'Coordinate'}, 'rotation': {'x': 0, 'y': 0, 'z': 0, 'type': 'Rotation'}, 'category': 'well', 'model': None, 'children': [], 'parent_name': 'plate_02', 'max_volume': 360, 'material_z_thickness': 0.5, 'compute_volume_from_height': None, 'compute_height_from_volume': None, 'bottom_type': 'flat', 'cross_section_type': 'circle'}, {'name': 'plate_02_well_9_4', 'type': 'Well', 'size_x': 6.86, 'size_y': 6.86, 'size_z': 10.67, 'location': {'x': 91.87, 'y': 34.77, 'z': 3.03, 'type': 'Coordinate'}, 'rotation': {'x': 0, 'y': 0, 'z': 0, 'type': 'Rotation'}, 'category': 'well', 'model': None, 'children': [], 'parent_name': 'plate_02', 'max_volume': 360, 'material_z_thickness': 0.5, 'compute_volume_from_height': None, 'compute_height_from_volume': None, 'bottom_type': 'flat', 'cross_section_type': 'circle'}, {'name': 'plate_02_well_9_5', 'type': 'Well', 'size_x': 6.86, 'size_y': 6.86, 'size_z': 10.67, 'location': {'x': 91.87, 'y': 25.77, 'z': 3.03, 'type': 'Coordinate'}, 'rotation': {'x': 0, 'y': 0, 'z': 0, 'type': 'Rotation'}, 'category': 'well', 'model': None, 'children': [], 'parent_name': 'plate_02', 'max_volume': 360, 'material_z_thickness': 0.5, 'compute_volume_from_height': None, 'compute_height_from_volume': None, 'bottom_type': 'flat', 'cross_section_type': 'circle'}, {'name': 'plate_02_well_9_6', 'type': 'Well', 'size_x': 6.86, 'size_y': 6.86, 'size_z': 10.67, 'location': {'x': 91.87, 'y': 16.77, 'z': 3.03, 'type': 'Coordinate'}, 'rotation': {'x': 0, 'y': 0, 'z': 0, 'type': 'Rotation'}, 'category': 'well', 'model': None, 'children': [], 'parent_name': 'plate_02', 'max_volume': 360, 'material_z_thickness': 0.5, 'compute_volume_from_height': None, 'compute_height_from_volume': None, 'bottom_type': 'flat', 'cross_section_type': 'circle'}, {'name': 'plate_02_well_9_7', 'type': 'Well', 'size_x': 6.86, 'size_y': 6.86, 'size_z': 10.67, 'location': {'x': 91.87, 'y': 7.77, 'z': 3.03, 'type': 'Coordinate'}, 'rotation': {'x': 0, 'y': 0, 'z': 0, 'type': 'Rotation'}, 'category': 'well', 'model': None, 'children': [], 'parent_name': 'plate_02', 'max_volume': 360, 'material_z_thickness': 0.5, 'compute_volume_from_height': None, 'compute_height_from_volume': None, 'bottom_type': 'flat', 'cross_section_type': 'circle'}, {'name': 'plate_02_well_10_0', 'type': 'Well', 'size_x': 6.86, 'size_y': 6.86, 'size_z': 10.67, 'location': {'x': 100.87, 'y': 70.77, 'z': 3.03, 'type': 'Coordinate'}, 'rotation': {'x': 0, 'y': 0, 'z': 0, 'type': 'Rotation'}, 'category': 'well', 'model': None, 'children': [], 'parent_name': 'plate_02', 'max_volume': 360, 'material_z_thickness': 0.5, 'compute_volume_from_height': None, 'compute_height_from_volume': None, 'bottom_type': 'flat', 'cross_section_type': 'circle'}, {'name': 'plate_02_well_10_1', 'type': 'Well', 'size_x': 6.86, 'size_y': 6.86, 'size_z': 10.67, 'location': {'x': 100.87, 'y': 61.77, 'z': 3.03, 'type': 'Coordinate'}, 'rotation': {'x': 0, 'y': 0, 'z': 0, 'type': 'Rotation'}, 'category': 'well', 'model': None, 'children': [], 'parent_name': 'plate_02', 'max_volume': 360, 'material_z_thickness': 0.5, 'compute_volume_from_height': None, 'compute_height_from_volume': None, 'bottom_type': 'flat', 'cross_section_type': 'circle'}, {'name': 'plate_02_well_10_2', 'type': 'Well', 'size_x': 6.86, 'size_y': 6.86, 'size_z': 10.67, 'location': {'x': 100.87, 'y': 52.77, 'z': 3.03, 'type': 'Coordinate'}, 'rotation': {'x': 0, 'y': 0, 'z': 0, 'type': 'Rotation'}, 'category': 'well', 'model': None, 'children': [], 'parent_name': 'plate_02', 'max_volume': 360, 'material_z_thickness': 0.5, 'compute_volume_from_height': None, 'compute_height_from_volume': None, 'bottom_type': 'flat', 'cross_section_type': 'circle'}, {'name': 'plate_02_well_10_3', 'type': 'Well', 'size_x': 6.86, 'size_y': 6.86, 'size_z': 10.67, 'location': {'x': 100.87, 'y': 43.77, 'z': 3.03, 'type': 'Coordinate'}, 'rotation': {'x': 0, 'y': 0, 'z': 0, 'type': 'Rotation'}, 'category': 'well', 'model': None, 'children': [], 'parent_name': 'plate_02', 'max_volume': 360, 'material_z_thickness': 0.5, 'compute_volume_from_height': None, 'compute_height_from_volume': None, 'bottom_type': 'flat', 'cross_section_type': 'circle'}, {'name': 'plate_02_well_10_4', 'type': 'Well', 'size_x': 6.86, 'size_y': 6.86, 'size_z': 10.67, 'location': {'x': 100.87, 'y': 34.77, 'z': 3.03, 'type': 'Coordinate'}, 'rotation': {'x': 0, 'y': 0, 'z': 0, 'type': 'Rotation'}, 'category': 'well', 'model': None, 'children': [], 'parent_name': 'plate_02', 'max_volume': 360, 'material_z_thickness': 0.5, 'compute_volume_from_height': None, 'compute_height_from_volume': None, 'bottom_type': 'flat', 'cross_section_type': 'circle'}, {'name': 'plate_02_well_10_5', 'type': 'Well', 'size_x': 6.86, 'size_y': 6.86, 'size_z': 10.67, 'location': {'x': 100.87, 'y': 25.77, 'z': 3.03, 'type': 'Coordinate'}, 'rotation': {'x': 0, 'y': 0, 'z': 0, 'type': 'Rotation'}, 'category': 'well', 'model': None, 'children': [], 'parent_name': 'plate_02', 'max_volume': 360, 'material_z_thickness': 0.5, 'compute_volume_from_height': None, 'compute_height_from_volume': None, 'bottom_type': 'flat', 'cross_section_type': 'circle'}, {'name': 'plate_02_well_10_6', 'type': 'Well', 'size_x': 6.86, 'size_y': 6.86, 'size_z': 10.67, 'location': {'x': 100.87, 'y': 16.77, 'z': 3.03, 'type': 'Coordinate'}, 'rotation': {'x': 0, 'y': 0, 'z': 0, 'type': 'Rotation'}, 'category': 'well', 'model': None, 'children': [], 'parent_name': 'plate_02', 'max_volume': 360, 'material_z_thickness': 0.5, 'compute_volume_from_height': None, 'compute_height_from_volume': None, 'bottom_type': 'flat', 'cross_section_type': 'circle'}, {'name': 'plate_02_well_10_7', 'type': 'Well', 'size_x': 6.86, 'size_y': 6.86, 'size_z': 10.67, 'location': {'x': 100.87, 'y': 7.77, 'z': 3.03, 'type': 'Coordinate'}, 'rotation': {'x': 0, 'y': 0, 'z': 0, 'type': 'Rotation'}, 'category': 'well', 'model': None, 'children': [], 'parent_name': 'plate_02', 'max_volume': 360, 'material_z_thickness': 0.5, 'compute_volume_from_height': None, 'compute_height_from_volume': None, 'bottom_type': 'flat', 'cross_section_type': 'circle'}, {'name': 'plate_02_well_11_0', 'type': 'Well', 'size_x': 6.86, 'size_y': 6.86, 'size_z': 10.67, 'location': {'x': 109.87, 'y': 70.77, 'z': 3.03, 'type': 'Coordinate'}, 'rotation': {'x': 0, 'y': 0, 'z': 0, 'type': 'Rotation'}, 'category': 'well', 'model': None, 'children': [], 'parent_name': 'plate_02', 'max_volume': 360, 'material_z_thickness': 0.5, 'compute_volume_from_height': None, 'compute_height_from_volume': None, 'bottom_type': 'flat', 'cross_section_type': 'circle'}, {'name': 'plate_02_well_11_1', 'type': 'Well', 'size_x': 6.86, 'size_y': 6.86, 'size_z': 10.67, 'location': {'x': 109.87, 'y': 61.77, 'z': 3.03, 'type': 'Coordinate'}, 'rotation': {'x': 0, 'y': 0, 'z': 0, 'type': 'Rotation'}, 'category': 'well', 'model': None, 'children': [], 'parent_name': 'plate_02', 'max_volume': 360, 'material_z_thickness': 0.5, 'compute_volume_from_height': None, 'compute_height_from_volume': None, 'bottom_type': 'flat', 'cross_section_type': 'circle'}, {'name': 'plate_02_well_11_2', 'type': 'Well', 'size_x': 6.86, 'size_y': 6.86, 'size_z': 10.67, 'location': {'x': 109.87, 'y': 52.77, 'z': 3.03, 'type': 'Coordinate'}, 'rotation': {'x': 0, 'y': 0, 'z': 0, 'type': 'Rotation'}, 'category': 'well', 'model': None, 'children': [], 'parent_name': 'plate_02', 'max_volume': 360, 'material_z_thickness': 0.5, 'compute_volume_from_height': None, 'compute_height_from_volume': None, 'bottom_type': 'flat', 'cross_section_type': 'circle'}, {'name': 'plate_02_well_11_3', 'type': 'Well', 'size_x': 6.86, 'size_y': 6.86, 'size_z': 10.67, 'location': {'x': 109.87, 'y': 43.77, 'z': 3.03, 'type': 'Coordinate'}, 'rotation': {'x': 0, 'y': 0, 'z': 0, 'type': 'Rotation'}, 'category': 'well', 'model': None, 'children': [], 'parent_name': 'plate_02', 'max_volume': 360, 'material_z_thickness': 0.5, 'compute_volume_from_height': None, 'compute_height_from_volume': None, 'bottom_type': 'flat', 'cross_section_type': 'circle'}, {'name': 'plate_02_well_11_4', 'type': 'Well', 'size_x': 6.86, 'size_y': 6.86, 'size_z': 10.67, 'location': {'x': 109.87, 'y': 34.77, 'z': 3.03, 'type': 'Coordinate'}, 'rotation': {'x': 0, 'y': 0, 'z': 0, 'type': 'Rotation'}, 'category': 'well', 'model': None, 'children': [], 'parent_name': 'plate_02', 'max_volume': 360, 'material_z_thickness': 0.5, 'compute_volume_from_height': None, 'compute_height_from_volume': None, 'bottom_type': 'flat', 'cross_section_type': 'circle'}, {'name': 'plate_02_well_11_5', 'type': 'Well', 'size_x': 6.86, 'size_y': 6.86, 'size_z': 10.67, 'location': {'x': 109.87, 'y': 25.77, 'z': 3.03, 'type': 'Coordinate'}, 'rotation': {'x': 0, 'y': 0, 'z': 0, 'type': 'Rotation'}, 'category': 'well', 'model': None, 'children': [], 'parent_name': 'plate_02', 'max_volume': 360, 'material_z_thickness': 0.5, 'compute_volume_from_height': None, 'compute_height_from_volume': None, 'bottom_type': 'flat', 'cross_section_type': 'circle'}, {'name': 'plate_02_well_11_6', 'type': 'Well', 'size_x': 6.86, 'size_y': 6.86, 'size_z': 10.67, 'location': {'x': 109.87, 'y': 16.77, 'z': 3.03, 'type': 'Coordinate'}, 'rotation': {'x': 0, 'y': 0, 'z': 0, 'type': 'Rotation'}, 'category': 'well', 'model': None, 'children': [], 'parent_name': 'plate_02', 'max_volume': 360, 'material_z_thickness': 0.5, 'compute_volume_from_height': None, 'compute_height_from_volume': None, 'bottom_type': 'flat', 'cross_section_type': 'circle'}, {'name': 'plate_02_well_11_7', 'type': 'Well', 'size_x': 6.86, 'size_y': 6.86, 'size_z': 10.67, 'location': {'x': 109.87, 'y': 7.77, 'z': 3.03, 'type': 'Coordinate'}, 'rotation': {'x': 0, 'y': 0, 'z': 0, 'type': 'Rotation'}, 'category': 'well', 'model': None, 'children': [], 'parent_name': 'plate_02', 'max_volume': 360, 'material_z_thickness': 0.5, 'compute_volume_from_height': None, 'compute_height_from_volume': None, 'bottom_type': 'flat', 'cross_section_type': 'circle'}]\n",
            "dict_keys(['liquids', 'pending_liquids', 'liquid_history'])\n"
          ]
        }
      ],
      "source": [
        "# await lh.aspirate96(plate_1, volume=100)\n",
        "# await lh.dispense96(plate_3, volume=100)\n",
        "# await lh.drop_tips96(tip_rack1)\n",
        "# await vis.stop()\n",
        "\n",
        "d2 = plate_2.serialize_state()\n",
        "d3 = plate_2.serialize()\n",
        "\n",
        "print(d.keys())\n",
        "print(d2.keys())\n",
        "print(d3.keys())\n",
        "\n",
        "print(d3[\"children\"])\n",
        "print(d[\"plate_03_well_0_1\"].keys())"
      ]
    },
    {
      "cell_type": "code",
      "execution_count": 41,
      "metadata": {},
      "outputs": [
        {
          "name": "stdout",
          "output_type": "stream",
          "text": [
            "Aspirating:\n",
            "pip#  vol(ul)  resource             offset           flow rate  blowout    lld_z       \n",
            "  p0: 50.0     plate_03_well_0_0    0,0,0            None       None       None       \n",
            "  p1: 50.0     plate_03_well_1_0    0,0,0            None       None       None       \n",
            "  p2: 50.0     plate_03_well_2_0    0,0,0            None       None       None       \n",
            "  p3: 50.0     plate_03_well_3_0    0,0,0            None       None       None       \n"
          ]
        }
      ],
      "source": [
        "await lh.aspirate(plate_3[\"A1\", \"A2\", \"A3\", \"A4\"], vols=[50, 50, 50, 50])"
      ]
    },
    {
      "cell_type": "code",
      "execution_count": 42,
      "metadata": {},
      "outputs": [
        {
          "name": "stdout",
          "output_type": "stream",
          "text": [
            "Dispensing:\n",
            "pip#  vol(ul)  resource             offset           flow rate  blowout    lld_z       \n",
            "  p0: 50.0     plate_03_well_0_2    0,0,0            None       None       None       \n",
            "  p1: 50.0     plate_03_well_1_2    0,0,0            None       None       None       \n",
            "  p2: 50.0     plate_03_well_2_2    0,0,0            None       None       None       \n",
            "  p3: 50.0     plate_03_well_3_2    0,0,0            None       None       None       \n"
          ]
        }
      ],
      "source": [
        "await lh.dispense(plate_3[\"C1\", \"C2\", \"C3\", \"C4\"], vols=[50, 50, 50, 50])"
      ]
    },
    {
      "cell_type": "code",
      "execution_count": null,
      "metadata": {},
      "outputs": [],
      "source": [
        "await lh.aspirate(plate_3[\"A1\", \"A2\", \"A3\", \"A4\"], vols=[50, 50, 50, 50])"
      ]
    },
    {
      "cell_type": "code",
      "execution_count": null,
      "metadata": {},
      "outputs": [],
      "source": []
    }
  ],
  "metadata": {
    "kernelspec": {
      "display_name": "pedal-dev",
      "language": "python",
      "name": "python3"
    },
    "language_info": {
      "codemirror_mode": {
        "name": "ipython",
        "version": 3
      },
      "file_extension": ".py",
      "mimetype": "text/x-python",
      "name": "python",
      "nbconvert_exporter": "python",
      "pygments_lexer": "ipython3",
      "version": "3.10.16"
    }
  },
  "nbformat": 4,
  "nbformat_minor": 4
}
